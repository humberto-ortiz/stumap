{
 "cells": [
  {
   "cell_type": "code",
   "execution_count": 1,
   "metadata": {
    "collapsed": true
   },
   "outputs": [],
   "source": [
    "import pandas as pd"
   ]
  },
  {
   "cell_type": "code",
   "execution_count": 2,
   "metadata": {
    "collapsed": true
   },
   "outputs": [],
   "source": [
    "students = pd.read_csv(\"estudiantesCCOMcursos.csv\", \n",
    "                           dtype='str', \n",
    "                           header=None, \n",
    "                           names=[\"ID\", \"Semester\", \"Course\"])"
   ]
  },
  {
   "cell_type": "code",
   "execution_count": 3,
   "metadata": {},
   "outputs": [
    {
     "data": {
      "text/html": [
       "<div>\n",
       "<style>\n",
       "    .dataframe thead tr:only-child th {\n",
       "        text-align: right;\n",
       "    }\n",
       "\n",
       "    .dataframe thead th {\n",
       "        text-align: left;\n",
       "    }\n",
       "\n",
       "    .dataframe tbody tr th {\n",
       "        vertical-align: top;\n",
       "    }\n",
       "</style>\n",
       "<table border=\"1\" class=\"dataframe\">\n",
       "  <thead>\n",
       "    <tr style=\"text-align: right;\">\n",
       "      <th></th>\n",
       "      <th>Semester</th>\n",
       "      <th>Course</th>\n",
       "    </tr>\n",
       "  </thead>\n",
       "  <tbody>\n",
       "    <tr>\n",
       "      <th>0</th>\n",
       "      <td>921</td>\n",
       "      <td>BIOL3011</td>\n",
       "    </tr>\n",
       "    <tr>\n",
       "      <th>1</th>\n",
       "      <td>921</td>\n",
       "      <td>CISO3122</td>\n",
       "    </tr>\n",
       "    <tr>\n",
       "      <th>2</th>\n",
       "      <td>921</td>\n",
       "      <td>MATE3171</td>\n",
       "    </tr>\n",
       "    <tr>\n",
       "      <th>3</th>\n",
       "      <td>921</td>\n",
       "      <td>QUIM3001</td>\n",
       "    </tr>\n",
       "    <tr>\n",
       "      <th>4</th>\n",
       "      <td>922</td>\n",
       "      <td>ESPA3101</td>\n",
       "    </tr>\n",
       "  </tbody>\n",
       "</table>\n",
       "</div>"
      ],
      "text/plain": [
       "  Semester    Course\n",
       "0      921  BIOL3011\n",
       "1      921  CISO3122\n",
       "2      921  MATE3171\n",
       "3      921  QUIM3001\n",
       "4      922  ESPA3101"
      ]
     },
     "execution_count": 3,
     "metadata": {},
     "output_type": "execute_result"
    }
   ],
   "source": [
    "students.iloc[:5,1:3]"
   ]
  },
  {
   "cell_type": "code",
   "execution_count": 4,
   "metadata": {
    "collapsed": true
   },
   "outputs": [],
   "source": [
    "sequences = {}"
   ]
  },
  {
   "cell_type": "code",
   "execution_count": 5,
   "metadata": {
    "collapsed": true
   },
   "outputs": [],
   "source": [
    "for index, ID, Semester, Course in students.itertuples():\n",
    "    if ID not in sequences:\n",
    "        sequences[ID] = [(Course, Semester)]\n",
    "    else:\n",
    "        sequences[ID].append((Course, Semester))"
   ]
  },
  {
   "cell_type": "code",
   "execution_count": 6,
   "metadata": {},
   "outputs": [
    {
     "data": {
      "text/plain": [
       "10"
      ]
     },
     "execution_count": 6,
     "metadata": {},
     "output_type": "execute_result"
    }
   ],
   "source": [
    "int('A', base=16)\n"
   ]
  },
  {
   "cell_type": "code",
   "execution_count": 7,
   "metadata": {
    "collapsed": true
   },
   "outputs": [],
   "source": [
    "def codetonum(code):\n",
    "    decade = code[0] \n",
    "    year = code[1]\n",
    "    semester = code[2]\n",
    "    time = 1900 + int(decade, base=16) * 10 + int(year) + 0.5 * (int(semester) - 1)\n",
    "    return time"
   ]
  },
  {
   "cell_type": "code",
   "execution_count": 8,
   "metadata": {},
   "outputs": [
    {
     "data": {
      "text/plain": [
       "2008.0"
      ]
     },
     "execution_count": 8,
     "metadata": {},
     "output_type": "execute_result"
    }
   ],
   "source": [
    "codetonum(\"A81\")"
   ]
  },
  {
   "cell_type": "code",
   "execution_count": 9,
   "metadata": {},
   "outputs": [
    {
     "data": {
      "text/plain": [
       "2008.5"
      ]
     },
     "execution_count": 9,
     "metadata": {},
     "output_type": "execute_result"
    }
   ],
   "source": [
    "codetonum(\"A82\")"
   ]
  },
  {
   "cell_type": "code",
   "execution_count": 10,
   "metadata": {
    "collapsed": true
   },
   "outputs": [],
   "source": [
    "def relative(courses):\n",
    "    \"Read a list of course, semester tuples and write out timeline\"\n",
    "    course, start = courses[0]\n",
    "    first_sem = codetonum(start)\n",
    "    last_sem = 0\n",
    "    sequence = []\n",
    "    for course, semester in courses:\n",
    "        now = codetonum(semester)\n",
    "        if now != last_sem:\n",
    "            last_sem = now\n",
    "            increment = 0.0\n",
    "        else:\n",
    "            increment += 0.01\n",
    "        \n",
    "        elapsed = now-first_sem + increment\n",
    "        sequence.append((course, elapsed))\n",
    "    return sequence"
   ]
  },
  {
   "cell_type": "code",
   "execution_count": 11,
   "metadata": {},
   "outputs": [
    {
     "data": {
      "text/plain": [
       "476"
      ]
     },
     "execution_count": 11,
     "metadata": {},
     "output_type": "execute_result"
    }
   ],
   "source": [
    "len(sequences.keys())"
   ]
  },
  {
   "cell_type": "code",
   "execution_count": 12,
   "metadata": {
    "collapsed": true
   },
   "outputs": [],
   "source": [
    "conf = open(\"config.map\", \"w\")\n",
    "for student in sequences.keys():\n",
    "    conf.write(\"%s 1 %s.map\\n\" % (student, student))\n",
    "    f = open(student + \".map\", \"w\")\n",
    "    f.write(\"group L0\\n;BEGINOFGROUP\\n\")\n",
    "    for course, elapsed in relative(sequences[student]):\n",
    "        f.write(\"%s\\t%s\\n\" % (course, elapsed))\n",
    "    f.write(\";ENDOFGROUP\\n\")\n",
    "    f.close()\n",
    "conf.close()"
   ]
  },
  {
   "cell_type": "code",
   "execution_count": 13,
   "metadata": {
    "collapsed": true
   },
   "outputs": [],
   "source": [
    "courses = []\n",
    "for student in sequences.keys():\n",
    "    courses.append([course for course, semester in sequences[student]])"
   ]
  },
  {
   "cell_type": "code",
   "execution_count": 14,
   "metadata": {
    "collapsed": true
   },
   "outputs": [],
   "source": [
    "common = set(courses[0])\n",
    "for courselist in courses[1:]:\n",
    "    common = common.intersection(courselist)"
   ]
  },
  {
   "cell_type": "code",
   "execution_count": 15,
   "metadata": {},
   "outputs": [
    {
     "data": {
      "text/plain": [
       "set()"
      ]
     },
     "execution_count": 15,
     "metadata": {},
     "output_type": "execute_result"
    }
   ],
   "source": [
    "common"
   ]
  },
  {
   "cell_type": "code",
   "execution_count": 16,
   "metadata": {
    "collapsed": true
   },
   "outputs": [],
   "source": [
    "core = set(['CCOM3020',\n",
    "                'MATE3018',\n",
    "                'MATE3023',\n",
    "                'MATE3024',\n",
    "                'MATE3151',\n",
    "                'MATE3152',\n",
    "                'MATE3153',\n",
    "                'MATE4080',\n",
    "                'MATE5001',\n",
    "                'CCOM3981',\n",
    "                'CCOM3982',\n",
    "                'CCOM3030',\n",
    "                'CCOM3033',\n",
    "                'CCOM3034',\n",
    "                'CCOM3986',\n",
    "                'CCOM4017',\n",
    "                'CCOM4027',\n",
    "                'CCOM4029',\n",
    "                'CCOM4030'\n",
    "                'CCOM4065',\n",
    "                'CCOM4086',\n",
    "                'CCOM4087',\n",
    "                'CCOM4088',\n",
    "                'CCOM4205',\n",
    "                'CCOM4995',\n",
    "                'CCOM4996',\n",
    "                'CCOM5035',\n",
    "                'CCOM5050',\n",
    "                'CCOM5060'])"
   ]
  },
  {
   "cell_type": "code",
   "execution_count": 59,
   "metadata": {
    "collapsed": true
   },
   "outputs": [],
   "source": [
    "prog2016 = ['MATE3018', 'MATE3023', 'MATE3024', # should have tested out of these pre calc\n",
    "            'MATE3151', 'CCOM3030', 'CCOM3981', # espa soc eng\n",
    "            'CCOM3020', 'CCOM3033', 'CCOM3982', # soc espa eng\n",
    "            'MATE3152', 'CCOM3034', 'CCOM4086', # sci huma\n",
    "            'MATE4081', 'CCOM4027', 'CCOM4029', # sci huma\n",
    "            'MATE4080', 'CCOM4017', 'CCOM4030', # libre lite\n",
    "            'CCOM5050', 'CCOM4065', 'CCOM4205', # art lite\n",
    "            'MATE5001', 'CCOM5035', 'CCOM4995', # SCI SCI\n",
    "            'CCOM4996', 'CCOM4087']"
   ]
  },
  {
   "cell_type": "code",
   "execution_count": 18,
   "metadata": {
    "collapsed": true
   },
   "outputs": [],
   "source": [
    "def clean(students, core):\n",
    "    \"Filter students to make sure they took all core courses\"\n",
    "    clean = {}\n",
    "    for student, courselist in students.items():\n",
    "        cleanlist = []\n",
    "        for course, sem in courselist:\n",
    "            if course in core:\n",
    "                cleanlist.append((course, sem))\n",
    "        if len(cleanlist) > 0:\n",
    "            clean[student] = cleanlist\n",
    "    return clean"
   ]
  },
  {
   "cell_type": "code",
   "execution_count": 19,
   "metadata": {
    "collapsed": true
   },
   "outputs": [],
   "source": [
    "newstu = clean(sequences, core)"
   ]
  },
  {
   "cell_type": "code",
   "execution_count": 20,
   "metadata": {},
   "outputs": [
    {
     "data": {
      "text/plain": [
       "453"
      ]
     },
     "execution_count": 20,
     "metadata": {},
     "output_type": "execute_result"
    }
   ],
   "source": [
    "len(newstu.keys())"
   ]
  },
  {
   "cell_type": "code",
   "execution_count": 21,
   "metadata": {
    "collapsed": true
   },
   "outputs": [],
   "source": [
    "def writemaps(students):\n",
    "    #conf = open(\"config.map\", \"w\")\n",
    "    for student in students.keys():\n",
    "        #conf.write(\"%s 1 %s.map\\n\" % (student, student))\n",
    "        f = open(student + \".map\", \"w\")\n",
    "        #f.write(\"group L0\\n;BEGINOFGROUP\\n\")\n",
    "        for course, elapsed in relative(students[student]):\n",
    "            f.write(\"%s\\t%s\\n\" % (course, elapsed))\n",
    "        #f.write(\";ENDOFGROUP\\n\")\n",
    "        f.close()\n",
    "    #conf.close()"
   ]
  },
  {
   "cell_type": "code",
   "execution_count": 22,
   "metadata": {
    "collapsed": true
   },
   "outputs": [],
   "source": [
    "writemaps(newstu)"
   ]
  },
  {
   "cell_type": "code",
   "execution_count": 23,
   "metadata": {
    "collapsed": true
   },
   "outputs": [],
   "source": [
    "import networkx as nx\n",
    "from networkx.drawing.nx_pydot import write_dot"
   ]
  },
  {
   "cell_type": "code",
   "execution_count": 24,
   "metadata": {
    "collapsed": true
   },
   "outputs": [],
   "source": [
    "def writedot(students, name):\n",
    "    G = nx.MultiDiGraph()\n",
    "\n",
    "    for student in students.keys():\n",
    "        courses = relative(students[student])\n",
    "        source, startsem = courses[0]\n",
    "        for sink, elapsed in courses[1:]:\n",
    "            G.add_edge(source, sink)\n",
    "            source = sink\n",
    "            \n",
    "    write_dot(G, name)"
   ]
  },
  {
   "cell_type": "code",
   "execution_count": 25,
   "metadata": {},
   "outputs": [],
   "source": [
    "writedot(sequences, \"file.dot\")"
   ]
  },
  {
   "cell_type": "code",
   "execution_count": 26,
   "metadata": {},
   "outputs": [],
   "source": [
    "writedot(newstu, \"newstu.dot\")"
   ]
  },
  {
   "cell_type": "code",
   "execution_count": 27,
   "metadata": {},
   "outputs": [
    {
     "data": {
      "text/plain": [
       "'/Users/humberto/anaconda3/bin/python'"
      ]
     },
     "execution_count": 27,
     "metadata": {},
     "output_type": "execute_result"
    }
   ],
   "source": [
    "import sys\n",
    "sys.executable"
   ]
  },
  {
   "cell_type": "code",
   "execution_count": 28,
   "metadata": {},
   "outputs": [
    {
     "data": {
      "text/plain": [
       "['',\n",
       " '/Users/humberto/anaconda3/lib/python36.zip',\n",
       " '/Users/humberto/anaconda3/lib/python3.6',\n",
       " '/Users/humberto/anaconda3/lib/python3.6/lib-dynload',\n",
       " '/Users/humberto/anaconda3/lib/python3.6/site-packages',\n",
       " '/Users/humberto/anaconda3/lib/python3.6/site-packages/Sphinx-1.5.6-py3.6.egg',\n",
       " '/Users/humberto/anaconda3/lib/python3.6/site-packages/aeosa',\n",
       " '/Users/humberto/anaconda3/lib/python3.6/site-packages/setuptools-27.2.0-py3.6.egg',\n",
       " '/Users/humberto/anaconda3/lib/python3.6/site-packages/IPython/extensions',\n",
       " '/Users/humberto/.ipython']"
      ]
     },
     "execution_count": 28,
     "metadata": {},
     "output_type": "execute_result"
    }
   ],
   "source": [
    "sys.path"
   ]
  },
  {
   "cell_type": "code",
   "execution_count": 29,
   "metadata": {},
   "outputs": [],
   "source": [
    "stutest = {'a' : 1, 'b' : 3, 'c':2}"
   ]
  },
  {
   "cell_type": "code",
   "execution_count": 30,
   "metadata": {},
   "outputs": [
    {
     "data": {
      "text/plain": [
       "[('a', 1), ('c', 2), ('b', 3)]"
      ]
     },
     "execution_count": 30,
     "metadata": {},
     "output_type": "execute_result"
    }
   ],
   "source": [
    "sorted(stutest.items(), key=lambda item: (item[1], item[0]))"
   ]
  },
  {
   "cell_type": "code",
   "execution_count": 31,
   "metadata": {
    "collapsed": true
   },
   "outputs": [],
   "source": [
    "?sorted"
   ]
  },
  {
   "cell_type": "code",
   "execution_count": 32,
   "metadata": {
    "collapsed": true
   },
   "outputs": [],
   "source": [
    "from collections import defaultdict"
   ]
  },
  {
   "cell_type": "code",
   "execution_count": 33,
   "metadata": {
    "collapsed": true
   },
   "outputs": [],
   "source": [
    "def getseq(students):\n",
    "    freqs = defaultdict(int)\n",
    "    for student in students.keys():\n",
    "        for i in range(len(students[student])):\n",
    "            course, elapsed = students[student][i]\n",
    "            freqs[course] += i\n",
    "    return list(map(lambda item: item[0], sorted(freqs.items(), key=lambda item: (item[1], item[0]))))"
   ]
  },
  {
   "cell_type": "code",
   "execution_count": 34,
   "metadata": {
    "collapsed": true
   },
   "outputs": [],
   "source": [
    "?map"
   ]
  },
  {
   "cell_type": "code",
   "execution_count": 35,
   "metadata": {},
   "outputs": [],
   "source": [
    "cs_seq = getseq(newstu)"
   ]
  },
  {
   "cell_type": "code",
   "execution_count": 36,
   "metadata": {},
   "outputs": [
    {
     "data": {
      "text/plain": [
       "['MATE3018',\n",
       " 'CCOM5060',\n",
       " 'CCOM3030',\n",
       " 'CCOM4205',\n",
       " 'CCOM4996',\n",
       " 'MATE3024',\n",
       " 'CCOM3981',\n",
       " 'CCOM4088',\n",
       " 'MATE3153',\n",
       " 'CCOM3982',\n",
       " 'MATE5001',\n",
       " 'CCOM4029',\n",
       " 'CCOM3020',\n",
       " 'CCOM3033',\n",
       " 'CCOM3034',\n",
       " 'MATE3151',\n",
       " 'CCOM4086',\n",
       " 'CCOM4017',\n",
       " 'CCOM4027',\n",
       " 'CCOM3986',\n",
       " 'CCOM5035',\n",
       " 'MATE3152',\n",
       " 'CCOM4995',\n",
       " 'MATE4080',\n",
       " 'CCOM4087',\n",
       " 'CCOM5050']"
      ]
     },
     "execution_count": 36,
     "metadata": {},
     "output_type": "execute_result"
    }
   ],
   "source": [
    "cs_seq"
   ]
  },
  {
   "cell_type": "code",
   "execution_count": 37,
   "metadata": {
    "collapsed": true
   },
   "outputs": [],
   "source": [
    "import numpy as np"
   ]
  },
  {
   "cell_type": "code",
   "execution_count": 38,
   "metadata": {},
   "outputs": [],
   "source": [
    "rows = len(cs_seq)\n",
    "counts = np.zeros(rows * rows).reshape(rows,rows)"
   ]
  },
  {
   "cell_type": "code",
   "execution_count": 39,
   "metadata": {},
   "outputs": [
    {
     "data": {
      "text/plain": [
       "453"
      ]
     },
     "execution_count": 39,
     "metadata": {},
     "output_type": "execute_result"
    }
   ],
   "source": [
    "len(newstu)"
   ]
  },
  {
   "cell_type": "code",
   "execution_count": 40,
   "metadata": {},
   "outputs": [],
   "source": [
    "for stu in newstu:\n",
    "    courses = [course for course, sem in newstu[stu] if course in cs_seq]\n",
    "    courses = list(dict.fromkeys(courses)) # unique, preserving order, first occurrence\n",
    "    for i in range(len(courses)):\n",
    "        row = cs_seq.index(courses[i])\n",
    "        counts[row,i] += 1"
   ]
  },
  {
   "cell_type": "code",
   "execution_count": 41,
   "metadata": {},
   "outputs": [],
   "source": [
    "counts = pd.DataFrame(counts, index=cs_seq)"
   ]
  },
  {
   "cell_type": "code",
   "execution_count": 42,
   "metadata": {
    "collapsed": true
   },
   "outputs": [],
   "source": [
    "%matplotlib inline"
   ]
  },
  {
   "cell_type": "code",
   "execution_count": 43,
   "metadata": {
    "collapsed": true
   },
   "outputs": [],
   "source": [
    "import seaborn as sns; sns.set()"
   ]
  },
  {
   "cell_type": "code",
   "execution_count": 44,
   "metadata": {},
   "outputs": [
    {
     "data": {
      "image/png": "[encoded data removed]",
      "text/plain": [
       "<matplotlib.figure.Figure at 0x120eea320>"
      ]
     },
     "metadata": {},
     "output_type": "display_data"
    }
   ],
   "source": [
    "ax = sns.heatmap(counts)"
   ]
  },
  {
   "cell_type": "code",
   "execution_count": null,
   "metadata": {
    "collapsed": true
   },
   "outputs": [],
   "source": []
  },
  {
   "cell_type": "code",
   "execution_count": 45,
   "metadata": {},
   "outputs": [],
   "source": [
    "def heatmap(students, cs_seq):\n",
    "    rows = len(cs_seq)\n",
    "    cols = 17\n",
    "    counts = np.zeros(rows * cols).reshape(rows,cols)\n",
    "    counts = pd.DataFrame(counts, index=cs_seq)\n",
    "    for stu in students:\n",
    "        courses = [(course, sem) for course, sem in students[stu] if course in cs_seq]\n",
    "        #print(courses)\n",
    "        courses = semesters(courses)\n",
    "        for i in range(len(courses)):\n",
    "            course, sem = courses[i]\n",
    "            #print(course)\n",
    "            row = cs_seq.index(course)\n",
    "            if sem >= cols:\n",
    "                sem = cols-1\n",
    "            counts.iat[row,sem] += 1\n",
    "    return counts"
   ]
  },
  {
   "cell_type": "code",
   "execution_count": null,
   "metadata": {
    "collapsed": true
   },
   "outputs": [],
   "source": []
  },
  {
   "cell_type": "code",
   "execution_count": 46,
   "metadata": {
    "collapsed": true
   },
   "outputs": [],
   "source": [
    "def codetosem(code):\n",
    "    decade = code[0] \n",
    "    year = code[1]\n",
    "    semester = code[2]\n",
    "    time = 1900 + int(decade, base=16) * 10 + int(year) + 0.5 * (int(semester) - 1)\n",
    "    return time"
   ]
  },
  {
   "cell_type": "code",
   "execution_count": 47,
   "metadata": {},
   "outputs": [],
   "source": [
    "def semesters(courses):\n",
    "    \"Read a list of course, semester tuples and write out relative timeline\"\n",
    "    course, start = courses[0]\n",
    "    first_sem = codetosem(start)\n",
    "    last_sem = 0\n",
    "    sequence = []\n",
    "    for course, semester in courses:\n",
    "        now = codetonum(semester)\n",
    "        \n",
    "        elapsed = now-first_sem\n",
    "        elapsed *= 2\n",
    "        sequence.append((course, int(elapsed)))\n",
    "    return sequence"
   ]
  },
  {
   "cell_type": "code",
   "execution_count": 49,
   "metadata": {},
   "outputs": [],
   "source": [
    "newmap = heatmap(newstu, cs_seq)"
   ]
  },
  {
   "cell_type": "code",
   "execution_count": 50,
   "metadata": {},
   "outputs": [
    {
     "data": {
      "text/plain": [
       "0.0"
      ]
     },
     "execution_count": 50,
     "metadata": {},
     "output_type": "execute_result"
    }
   ],
   "source": [
    "counts[21][0]"
   ]
  },
  {
   "cell_type": "code",
   "execution_count": 51,
   "metadata": {},
   "outputs": [
    {
     "data": {
      "image/png": "[encoded data removed]",
      "text/plain": [
       "<matplotlib.figure.Figure at 0x11d49e3c8>"
      ]
     },
     "metadata": {},
     "output_type": "display_data"
    }
   ],
   "source": [
    "ax = sns.heatmap(newmap)"
   ]
  },
  {
   "cell_type": "code",
   "execution_count": 60,
   "metadata": {},
   "outputs": [
    {
     "data": {
      "text/plain": [
       "<matplotlib.axes._subplots.AxesSubplot at 0x12402db70>"
      ]
     },
     "execution_count": 60,
     "metadata": {},
     "output_type": "execute_result"
    },
    {
     "data": {
      "image/png": "[encoded data removed]",
      "text/plain": [
       "<matplotlib.figure.Figure at 0x12432ddd8>"
      ]
     },
     "metadata": {},
     "output_type": "display_data"
    }
   ],
   "source": [
    "sns.heatmap(heatmap(clean(sequences, prog2016), prog2016),cmap = None)"
   ]
  },
  {
   "cell_type": "code",
   "execution_count": null,
   "metadata": {
    "collapsed": true
   },
   "outputs": [],
   "source": []
  }
 ],
 "metadata": {
  "kernelspec": {
   "display_name": "Python 3",
   "language": "python",
   "name": "python3"
  },
  "language_info": {
   "codemirror_mode": {
    "name": "ipython",
    "version": 3
   },
   "file_extension": ".py",
   "mimetype": "text/x-python",
   "name": "python",
   "nbconvert_exporter": "python",
   "pygments_lexer": "ipython3",
   "version": "3.6.1"
  }
 },
 "nbformat": 4,
 "nbformat_minor": 2
}
